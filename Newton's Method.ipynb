{
 "cells": [
  {
   "cell_type": "code",
   "execution_count": 16,
   "id": "f18bfd19",
   "metadata": {},
   "outputs": [],
   "source": [
    "import numpy as np\n",
    "import matplotlib.pyplot as plt"
   ]
  },
  {
   "cell_type": "code",
   "execution_count": 17,
   "id": "aa98c7e7",
   "metadata": {},
   "outputs": [],
   "source": [
    "def derivative(x1,x2):\n",
    "    f1 = 2*(x1-4) + 10*np.cos(x1)*np.sin(x2)\n",
    "    f2 = 2*(x2-3) + 10*np.sin(x1)*np.cos(x2)\n",
    "    return np.array([f1,f2])"
   ]
  },
  {
   "cell_type": "code",
   "execution_count": 18,
   "id": "aaa82e56",
   "metadata": {},
   "outputs": [],
   "source": [
    "def hessian(x1,x2):\n",
    "    d2x1 = 2 - 10*np.sin(x1)*np.sin(x2)\n",
    "    d2x2 = 2 - 10*np.sin(x1)*np.sin(x2)\n",
    "    d2x1x2 = 10*np.cos(x1)*np.cos(x2)\n",
    "    d2x2x1 = 10*np.cos(x2)*np.cos(x1)\n",
    "    return np.matrix([[d2x1,d2x1x2],[d2x2x1,d2x2]])"
   ]
  },
  {
   "cell_type": "code",
   "execution_count": 19,
   "id": "b0e62dad",
   "metadata": {},
   "outputs": [],
   "source": [
    "def func_value(x1,x2):\n",
    "    f = np.power((x1-4),2) + np.power((x2-3),2) + 10*np.sin(x1)*np.sin(x2) + 5\n",
    "    return f"
   ]
  },
  {
   "cell_type": "code",
   "execution_count": 20,
   "id": "3204bc5f",
   "metadata": {},
   "outputs": [],
   "source": [
    "def check_convergence(X,Y):\n",
    "    X11 = np.linalg.norm(Y - X)\n",
    "    F11 = np.linalg.norm(func_value(Y[0],Y[1]) - func_value(X[0],X[1]))\n",
    "    return X11,F11"
   ]
  },
  {
   "cell_type": "markdown",
   "id": "22dd919f",
   "metadata": {},
   "source": [
    "Initial Guess"
   ]
  },
  {
   "cell_type": "code",
   "execution_count": 25,
   "id": "91b23eea",
   "metadata": {},
   "outputs": [
    {
     "data": {
      "text/plain": [
       "matrix([[1.955621  , 4.45760756]])"
      ]
     },
     "execution_count": 25,
     "metadata": {},
     "output_type": "execute_result"
    }
   ],
   "source": [
    "X1 = np.array([2,4])\n",
    "F = func_value(X1[0],X1[1])\n",
    "DF = derivative(X1[0],X1[1])\n",
    "H = hessian(X1[0],X1[1])\n",
    "H_inv = np.linalg.inv(H)\n",
    "X2 = X1 - np.dot(H_inv,DF)\n",
    "X2.flatten()"
   ]
  },
  {
   "cell_type": "code",
   "execution_count": 38,
   "id": "af47e1a8",
   "metadata": {},
   "outputs": [
    {
     "name": "stdout",
     "output_type": "stream",
     "text": [
      "Itr:  1\n",
      "Function Value:  3.118414384012458\n",
      "Derivative:  [-0.85059036 -3.94356463]\n",
      "Hessian Inverse: \n",
      " [[ 0.12424661 -0.03805237]\n",
      " [-0.03805237  0.12424661]]\n",
      "Initail:  [2 4]\n",
      "Final:  [1.955621   4.45760756]\n",
      "\n",
      "\n",
      "Itr:  2\n",
      "Function Value:  2.3346691886872595\n",
      "Derivative:  [-0.45597559  0.57920302]\n",
      "Hessian Inverse: \n",
      " [[ 0.09184565 -0.0079218 ]\n",
      " [-0.0079218   0.09184565]]\n",
      "Initail:  [1.955621   4.45760756]\n",
      "Final:  [2.00208871 4.40079813]\n",
      "\n",
      "\n",
      "Itr:  3\n",
      "Function Value:  2.307056502748039\n",
      "Derivative:  [-0.01667178  0.01660426]\n",
      "Hessian Inverse: \n",
      " [[ 0.09530568 -0.01147245]\n",
      " [-0.01147245  0.09530568]]\n",
      "Initail:  [2.00208871 4.40079813]\n",
      "Final:  [2.00386811 4.39902438]\n",
      "\n",
      "\n",
      "Itr:  4\n",
      "Function Value:  2.307026918613383\n",
      "Derivative:  [-2.13766817e-05  2.13766626e-05]\n",
      "Hessian Inverse: \n",
      " [[ 0.09544334 -0.01161005]\n",
      " [-0.01161005  0.09544334]]\n",
      "Initail:  [2.00386811 4.39902438]\n",
      "Final:  [2.0038704 4.3990221]\n",
      "\n",
      "\n",
      "Itr:  5\n",
      "Function Value:  2.3070269185644623\n",
      "Derivative:  [-3.55631080e-11  3.55613317e-11]\n",
      "Hessian Inverse: \n",
      " [[ 0.09544352 -0.01161023]\n",
      " [-0.01161023  0.09544352]]\n",
      "Initail:  [2.0038704 4.3990221]\n",
      "Final:  [2.0038704 4.3990221]\n",
      "\n",
      "\n"
     ]
    }
   ],
   "source": [
    "itr = 0\n",
    "epsilon = 0.000001\n",
    "while (True):\n",
    "    if(itr == 0):\n",
    "        X = np.array([2,4])\n",
    "    else:\n",
    "        X = Y\n",
    "    F = func_value(X[0],X[1])\n",
    "    DF = derivative(X[0],X[1])\n",
    "    H = hessian(X[0],X[1])\n",
    "    H_inv = np.linalg.inv(H)\n",
    "    Y = X - np.dot(H_inv,DF)\n",
    "    Y = np.squeeze(np.asarray(Y))\n",
    "    itr += 1\n",
    "    print(\"Itr: \",itr)\n",
    "    print(\"Function Value: \",F)\n",
    "    print(\"Derivative: \",DF)\n",
    "    print(\"Hessian Inverse: \\n\",H_inv)\n",
    "    print(\"Initail: \",X)\n",
    "    print(\"Final: \",Y)\n",
    "    print()\n",
    "    print()\n",
    "    if(check_convergence(X,Y)[0] < epsilon and check_convergence(X,Y)[1] < epsilon):\n",
    "        break"
   ]
  },
  {
   "cell_type": "code",
   "execution_count": null,
   "id": "3ddc866d",
   "metadata": {},
   "outputs": [],
   "source": []
  }
 ],
 "metadata": {
  "kernelspec": {
   "display_name": "Python 3 (ipykernel)",
   "language": "python",
   "name": "python3"
  },
  "language_info": {
   "codemirror_mode": {
    "name": "ipython",
    "version": 3
   },
   "file_extension": ".py",
   "mimetype": "text/x-python",
   "name": "python",
   "nbconvert_exporter": "python",
   "pygments_lexer": "ipython3",
   "version": "3.8.13"
  }
 },
 "nbformat": 4,
 "nbformat_minor": 5
}
